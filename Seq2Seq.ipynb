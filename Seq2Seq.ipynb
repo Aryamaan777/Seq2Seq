{
  "nbformat": 4,
  "nbformat_minor": 0,
  "metadata": {
    "colab": {
      "name": "Seq2Seq.ipynb",
      "provenance": [],
      "collapsed_sections": [],
      "authorship_tag": "ABX9TyOxx2FbCKqE8pTohDClCvCI",
      "include_colab_link": true
    },
    "kernelspec": {
      "name": "python3",
      "display_name": "Python 3"
    },
    "accelerator": "GPU"
  },
  "cells": [
    {
      "cell_type": "markdown",
      "metadata": {
        "id": "view-in-github",
        "colab_type": "text"
      },
      "source": [
        "<a href=\"https://colab.research.google.com/github/Aryamaan777/Seq2Seq/blob/main/Seq2Seq.ipynb\" target=\"_parent\"><img src=\"https://colab.research.google.com/assets/colab-badge.svg\" alt=\"Open In Colab\"/></a>"
      ]
    },
    {
      "cell_type": "code",
      "metadata": {
        "colab": {
          "base_uri": "https://localhost:8080/"
        },
        "id": "ynYiGNb-CgKS",
        "outputId": "2139b140-a665-439c-ec4b-6fe2e4dec342"
      },
      "source": [
        "!python -m spacy download de\r\n",
        "!python -m spacy download en"
      ],
      "execution_count": 1,
      "outputs": [
        {
          "output_type": "stream",
          "text": [
            "Requirement already satisfied: de_core_news_sm==2.2.5 from https://github.com/explosion/spacy-models/releases/download/de_core_news_sm-2.2.5/de_core_news_sm-2.2.5.tar.gz#egg=de_core_news_sm==2.2.5 in /usr/local/lib/python3.6/dist-packages (2.2.5)\n",
            "Requirement already satisfied: spacy>=2.2.2 in /usr/local/lib/python3.6/dist-packages (from de_core_news_sm==2.2.5) (2.2.4)\n",
            "Requirement already satisfied: cymem<2.1.0,>=2.0.2 in /usr/local/lib/python3.6/dist-packages (from spacy>=2.2.2->de_core_news_sm==2.2.5) (2.0.5)\n",
            "Requirement already satisfied: setuptools in /usr/local/lib/python3.6/dist-packages (from spacy>=2.2.2->de_core_news_sm==2.2.5) (53.0.0)\n",
            "Requirement already satisfied: catalogue<1.1.0,>=0.0.7 in /usr/local/lib/python3.6/dist-packages (from spacy>=2.2.2->de_core_news_sm==2.2.5) (1.0.0)\n",
            "Requirement already satisfied: thinc==7.4.0 in /usr/local/lib/python3.6/dist-packages (from spacy>=2.2.2->de_core_news_sm==2.2.5) (7.4.0)\n",
            "Requirement already satisfied: blis<0.5.0,>=0.4.0 in /usr/local/lib/python3.6/dist-packages (from spacy>=2.2.2->de_core_news_sm==2.2.5) (0.4.1)\n",
            "Requirement already satisfied: preshed<3.1.0,>=3.0.2 in /usr/local/lib/python3.6/dist-packages (from spacy>=2.2.2->de_core_news_sm==2.2.5) (3.0.5)\n",
            "Requirement already satisfied: numpy>=1.15.0 in /usr/local/lib/python3.6/dist-packages (from spacy>=2.2.2->de_core_news_sm==2.2.5) (1.19.5)\n",
            "Requirement already satisfied: murmurhash<1.1.0,>=0.28.0 in /usr/local/lib/python3.6/dist-packages (from spacy>=2.2.2->de_core_news_sm==2.2.5) (1.0.5)\n",
            "Requirement already satisfied: requests<3.0.0,>=2.13.0 in /usr/local/lib/python3.6/dist-packages (from spacy>=2.2.2->de_core_news_sm==2.2.5) (2.23.0)\n",
            "Requirement already satisfied: wasabi<1.1.0,>=0.4.0 in /usr/local/lib/python3.6/dist-packages (from spacy>=2.2.2->de_core_news_sm==2.2.5) (0.8.2)\n",
            "Requirement already satisfied: srsly<1.1.0,>=1.0.2 in /usr/local/lib/python3.6/dist-packages (from spacy>=2.2.2->de_core_news_sm==2.2.5) (1.0.5)\n",
            "Requirement already satisfied: tqdm<5.0.0,>=4.38.0 in /usr/local/lib/python3.6/dist-packages (from spacy>=2.2.2->de_core_news_sm==2.2.5) (4.41.1)\n",
            "Requirement already satisfied: plac<1.2.0,>=0.9.6 in /usr/local/lib/python3.6/dist-packages (from spacy>=2.2.2->de_core_news_sm==2.2.5) (1.1.3)\n",
            "Requirement already satisfied: importlib-metadata>=0.20; python_version < \"3.8\" in /usr/local/lib/python3.6/dist-packages (from catalogue<1.1.0,>=0.0.7->spacy>=2.2.2->de_core_news_sm==2.2.5) (3.4.0)\n",
            "Requirement already satisfied: certifi>=2017.4.17 in /usr/local/lib/python3.6/dist-packages (from requests<3.0.0,>=2.13.0->spacy>=2.2.2->de_core_news_sm==2.2.5) (2020.12.5)\n",
            "Requirement already satisfied: chardet<4,>=3.0.2 in /usr/local/lib/python3.6/dist-packages (from requests<3.0.0,>=2.13.0->spacy>=2.2.2->de_core_news_sm==2.2.5) (3.0.4)\n",
            "Requirement already satisfied: urllib3!=1.25.0,!=1.25.1,<1.26,>=1.21.1 in /usr/local/lib/python3.6/dist-packages (from requests<3.0.0,>=2.13.0->spacy>=2.2.2->de_core_news_sm==2.2.5) (1.24.3)\n",
            "Requirement already satisfied: idna<3,>=2.5 in /usr/local/lib/python3.6/dist-packages (from requests<3.0.0,>=2.13.0->spacy>=2.2.2->de_core_news_sm==2.2.5) (2.10)\n",
            "Requirement already satisfied: zipp>=0.5 in /usr/local/lib/python3.6/dist-packages (from importlib-metadata>=0.20; python_version < \"3.8\"->catalogue<1.1.0,>=0.0.7->spacy>=2.2.2->de_core_news_sm==2.2.5) (3.4.0)\n",
            "Requirement already satisfied: typing-extensions>=3.6.4; python_version < \"3.8\" in /usr/local/lib/python3.6/dist-packages (from importlib-metadata>=0.20; python_version < \"3.8\"->catalogue<1.1.0,>=0.0.7->spacy>=2.2.2->de_core_news_sm==2.2.5) (3.7.4.3)\n",
            "\u001b[38;5;2m✔ Download and installation successful\u001b[0m\n",
            "You can now load the model via spacy.load('de_core_news_sm')\n",
            "\u001b[38;5;2m✔ Linking successful\u001b[0m\n",
            "/usr/local/lib/python3.6/dist-packages/de_core_news_sm -->\n",
            "/usr/local/lib/python3.6/dist-packages/spacy/data/de\n",
            "You can now load the model via spacy.load('de')\n",
            "Requirement already satisfied: en_core_web_sm==2.2.5 from https://github.com/explosion/spacy-models/releases/download/en_core_web_sm-2.2.5/en_core_web_sm-2.2.5.tar.gz#egg=en_core_web_sm==2.2.5 in /usr/local/lib/python3.6/dist-packages (2.2.5)\n",
            "Requirement already satisfied: spacy>=2.2.2 in /usr/local/lib/python3.6/dist-packages (from en_core_web_sm==2.2.5) (2.2.4)\n",
            "Requirement already satisfied: plac<1.2.0,>=0.9.6 in /usr/local/lib/python3.6/dist-packages (from spacy>=2.2.2->en_core_web_sm==2.2.5) (1.1.3)\n",
            "Requirement already satisfied: catalogue<1.1.0,>=0.0.7 in /usr/local/lib/python3.6/dist-packages (from spacy>=2.2.2->en_core_web_sm==2.2.5) (1.0.0)\n",
            "Requirement already satisfied: setuptools in /usr/local/lib/python3.6/dist-packages (from spacy>=2.2.2->en_core_web_sm==2.2.5) (53.0.0)\n",
            "Requirement already satisfied: preshed<3.1.0,>=3.0.2 in /usr/local/lib/python3.6/dist-packages (from spacy>=2.2.2->en_core_web_sm==2.2.5) (3.0.5)\n",
            "Requirement already satisfied: cymem<2.1.0,>=2.0.2 in /usr/local/lib/python3.6/dist-packages (from spacy>=2.2.2->en_core_web_sm==2.2.5) (2.0.5)\n",
            "Requirement already satisfied: blis<0.5.0,>=0.4.0 in /usr/local/lib/python3.6/dist-packages (from spacy>=2.2.2->en_core_web_sm==2.2.5) (0.4.1)\n",
            "Requirement already satisfied: tqdm<5.0.0,>=4.38.0 in /usr/local/lib/python3.6/dist-packages (from spacy>=2.2.2->en_core_web_sm==2.2.5) (4.41.1)\n",
            "Requirement already satisfied: wasabi<1.1.0,>=0.4.0 in /usr/local/lib/python3.6/dist-packages (from spacy>=2.2.2->en_core_web_sm==2.2.5) (0.8.2)\n",
            "Requirement already satisfied: numpy>=1.15.0 in /usr/local/lib/python3.6/dist-packages (from spacy>=2.2.2->en_core_web_sm==2.2.5) (1.19.5)\n",
            "Requirement already satisfied: requests<3.0.0,>=2.13.0 in /usr/local/lib/python3.6/dist-packages (from spacy>=2.2.2->en_core_web_sm==2.2.5) (2.23.0)\n",
            "Requirement already satisfied: thinc==7.4.0 in /usr/local/lib/python3.6/dist-packages (from spacy>=2.2.2->en_core_web_sm==2.2.5) (7.4.0)\n",
            "Requirement already satisfied: murmurhash<1.1.0,>=0.28.0 in /usr/local/lib/python3.6/dist-packages (from spacy>=2.2.2->en_core_web_sm==2.2.5) (1.0.5)\n",
            "Requirement already satisfied: srsly<1.1.0,>=1.0.2 in /usr/local/lib/python3.6/dist-packages (from spacy>=2.2.2->en_core_web_sm==2.2.5) (1.0.5)\n",
            "Requirement already satisfied: importlib-metadata>=0.20; python_version < \"3.8\" in /usr/local/lib/python3.6/dist-packages (from catalogue<1.1.0,>=0.0.7->spacy>=2.2.2->en_core_web_sm==2.2.5) (3.4.0)\n",
            "Requirement already satisfied: urllib3!=1.25.0,!=1.25.1,<1.26,>=1.21.1 in /usr/local/lib/python3.6/dist-packages (from requests<3.0.0,>=2.13.0->spacy>=2.2.2->en_core_web_sm==2.2.5) (1.24.3)\n",
            "Requirement already satisfied: certifi>=2017.4.17 in /usr/local/lib/python3.6/dist-packages (from requests<3.0.0,>=2.13.0->spacy>=2.2.2->en_core_web_sm==2.2.5) (2020.12.5)\n",
            "Requirement already satisfied: idna<3,>=2.5 in /usr/local/lib/python3.6/dist-packages (from requests<3.0.0,>=2.13.0->spacy>=2.2.2->en_core_web_sm==2.2.5) (2.10)\n",
            "Requirement already satisfied: chardet<4,>=3.0.2 in /usr/local/lib/python3.6/dist-packages (from requests<3.0.0,>=2.13.0->spacy>=2.2.2->en_core_web_sm==2.2.5) (3.0.4)\n",
            "Requirement already satisfied: zipp>=0.5 in /usr/local/lib/python3.6/dist-packages (from importlib-metadata>=0.20; python_version < \"3.8\"->catalogue<1.1.0,>=0.0.7->spacy>=2.2.2->en_core_web_sm==2.2.5) (3.4.0)\n",
            "Requirement already satisfied: typing-extensions>=3.6.4; python_version < \"3.8\" in /usr/local/lib/python3.6/dist-packages (from importlib-metadata>=0.20; python_version < \"3.8\"->catalogue<1.1.0,>=0.0.7->spacy>=2.2.2->en_core_web_sm==2.2.5) (3.7.4.3)\n",
            "\u001b[38;5;2m✔ Download and installation successful\u001b[0m\n",
            "You can now load the model via spacy.load('en_core_web_sm')\n",
            "\u001b[38;5;2m✔ Linking successful\u001b[0m\n",
            "/usr/local/lib/python3.6/dist-packages/en_core_web_sm -->\n",
            "/usr/local/lib/python3.6/dist-packages/spacy/data/en\n",
            "You can now load the model via spacy.load('en')\n"
          ],
          "name": "stdout"
        }
      ]
    },
    {
      "cell_type": "code",
      "metadata": {
        "id": "GeixPZdI8QUZ"
      },
      "source": [
        "import torch\r\n",
        "import torch.nn as nn\r\n",
        "import torch.optim as optim\r\n",
        "from torchtext.datasets import Multi30k\r\n",
        "from torchtext.data import Field, BucketIterator\r\n",
        "import numpy as np\r\n",
        "import spacy\r\n",
        "import random\r\n",
        "from torch.utils.tensorboard import SummaryWriter  # to print to tensorboard\r\n",
        "#from utils import translate_sentence, bleu, save_checkpoint, load_checkpoint"
      ],
      "execution_count": 2,
      "outputs": []
    },
    {
      "cell_type": "code",
      "metadata": {
        "id": "IprAayhj-CYs"
      },
      "source": [
        "spacy_ger = spacy.load(\"de\")\r\n",
        "spacy_eng = spacy.load(\"en\")"
      ],
      "execution_count": 3,
      "outputs": []
    },
    {
      "cell_type": "code",
      "metadata": {
        "id": "6BUshUZm9cHn"
      },
      "source": [
        "def tokenize_ger(text):\r\n",
        "  return [tok.text for tok in spacy_ger.tokenizer(text)]\r\n",
        "\r\n",
        "def tokenize_eng(text):\r\n",
        "  return [tok.text for tok in spacy_eng.tokenizer(text)]"
      ],
      "execution_count": 4,
      "outputs": []
    },
    {
      "cell_type": "code",
      "metadata": {
        "colab": {
          "base_uri": "https://localhost:8080/"
        },
        "id": "v6BP42iA_YT9",
        "outputId": "c7780f2e-7529-47d6-abd8-16b416aa4e39"
      },
      "source": [
        "german=Field(tokenize=tokenize_ger, lower=True, init_token=\"<sos>\",eos_token=\"<eos>\")\r\n",
        "english=Field(tokenize=tokenize_eng,lower=True, init_token=\"<sos>\",eos_token=\"<sos>\")"
      ],
      "execution_count": 5,
      "outputs": [
        {
          "output_type": "stream",
          "text": [
            "/usr/local/lib/python3.6/dist-packages/torchtext/data/field.py:150: UserWarning: Field class will be retired soon and moved to torchtext.legacy. Please see the most recent release notes for further information.\n",
            "  warnings.warn('{} class will be retired soon and moved to torchtext.legacy. Please see the most recent release notes for further information.'.format(self.__class__.__name__), UserWarning)\n"
          ],
          "name": "stderr"
        }
      ]
    },
    {
      "cell_type": "code",
      "metadata": {
        "colab": {
          "base_uri": "https://localhost:8080/"
        },
        "id": "iqiribVkAOOP",
        "outputId": "7cbba829-16b7-4387-dad9-8efb54e1415e"
      },
      "source": [
        "train_data,valid_data,test_data=Multi30k.splits(\r\n",
        "    exts=(\".de\",\".en\"),fields=(german,english)\r\n",
        ")"
      ],
      "execution_count": 6,
      "outputs": [
        {
          "output_type": "stream",
          "text": [
            "/usr/local/lib/python3.6/dist-packages/torchtext/data/example.py:78: UserWarning: Example class will be retired soon and moved to torchtext.legacy. Please see the most recent release notes for further information.\n",
            "  warnings.warn('Example class will be retired soon and moved to torchtext.legacy. Please see the most recent release notes for further information.', UserWarning)\n"
          ],
          "name": "stderr"
        }
      ]
    },
    {
      "cell_type": "code",
      "metadata": {
        "id": "Q6H6iaYnERWD"
      },
      "source": [
        "german.build_vocab(train_data, max_size=10000, min_freq=2)\r\n",
        "english.build_vocab(train_data, max_size=10000, min_freq=2)"
      ],
      "execution_count": 7,
      "outputs": []
    },
    {
      "cell_type": "code",
      "metadata": {
        "id": "ESzL_PD3ExbY"
      },
      "source": [
        "class Encoder(nn.Module):\r\n",
        "  def __init__(self, input_size, embedding_size, hidden_size, num_layers, p):\r\n",
        "    super(Encoder, self).__init__()\r\n",
        "    self.dropout=nn.Dropout(p)\r\n",
        "    self.hidden_size=hidden_size\r\n",
        "    self.num_layers=num_layers\r\n",
        "\r\n",
        "    self.embedding=nn.Embedding(input_size, embedding_size)\r\n",
        "    self.rnn=nn.LSTM(embedding_size, hidden_size, num_layers, dropout=p)\r\n",
        "\r\n",
        "  def forward(self,x):\r\n",
        "    embedding=self.dropout(self.embedding(x))\r\n",
        "    outputs,(hidden,cell)=self.rnn(embedding)\r\n",
        "    return hidden,cell"
      ],
      "execution_count": 8,
      "outputs": []
    },
    {
      "cell_type": "code",
      "metadata": {
        "id": "jCodIIiEFsy8"
      },
      "source": [
        "class Decoder(nn.Module):\r\n",
        "  def __init__(self, input_size, embedding_size, hidden_size, output_size, num_layers, p):\r\n",
        "    super(Decoder,self).__init__()\r\n",
        "    self.dropout=nn.Dropout(p)\r\n",
        "    self.hidden_size=hidden_size\r\n",
        "    self.num_layers=num_layers\r\n",
        "\r\n",
        "    self.embedding=nn.Embedding(input_size, embedding_size)\r\n",
        "    self.rnn=nn.LSTM(embedding_size, hidden_size, num_layers, dropout=p)\r\n",
        "    self.fc=nn.Linear(hidden_size,output_size)\r\n",
        "\r\n",
        "  def forward(self, x, hidden, cell):\r\n",
        "    x=x.unsqueeze(0)\r\n",
        "\r\n",
        "    embedding=self.dropout(self.embedding(x))\r\n",
        "    outputs,(hidden,cell)=self.rnn(embedding,(hidden,cell))\r\n",
        "    predictions=self.fc(outputs)\r\n",
        "    predictions=predictions.squeeze(0)\r\n",
        "\r\n",
        "    return predictions, hidden, cell"
      ],
      "execution_count": 9,
      "outputs": []
    },
    {
      "cell_type": "code",
      "metadata": {
        "id": "_6MeJWFHGyXD"
      },
      "source": [
        "class Seq2Seq(nn.Module):\r\n",
        "  def __init__(self, encoder, decoder):\r\n",
        "    super(Seq2Seq, self).__init__()\r\n",
        "    self.encoder=encoder\r\n",
        "    self.decoder=decoder\r\n",
        "\r\n",
        "  def forward(self, source, target, teacher_force_ratio=0.5):\r\n",
        "    batch_size = source.shape[1]\r\n",
        "    target_len = target.shape[0]\r\n",
        "    target_vocab_size = len(english.vocab)\r\n",
        "\r\n",
        "    outputs = torch.zeros(target_len, batch_size, target_vocab_size).to(device)\r\n",
        "\r\n",
        "    hidden, cell = self.encoder(source)\r\n",
        "\r\n",
        "    x=target[0]\r\n",
        "\r\n",
        "    for t in range(1,target_len):\r\n",
        "      output, hidden, cell=self.decoder(x, hidden, cell)\r\n",
        "\r\n",
        "      outputs[t]=output\r\n",
        "\r\n",
        "      best_guess=output.argmax(1)\r\n",
        "\r\n",
        "      x=target[t] if random.random()<teacher_force_ratio else best_guess\r\n",
        "    \r\n",
        "    return outputs"
      ],
      "execution_count": 10,
      "outputs": []
    },
    {
      "cell_type": "code",
      "metadata": {
        "id": "IBm6ZXBDIqce"
      },
      "source": [
        "num_epochs=100\r\n",
        "learning_rate=0.001\r\n",
        "batch_size=64"
      ],
      "execution_count": 11,
      "outputs": []
    },
    {
      "cell_type": "code",
      "metadata": {
        "id": "_OjDMq9jIw2h"
      },
      "source": [
        "load_model=False\r\n",
        "device=torch.device(\"cuda\" if torch.cuda.is_available() else \"cpu\")\r\n",
        "input_size_encoder=len(german.vocab)\r\n",
        "input_size_decoder=len(english.vocab)\r\n",
        "output_size=len(english.vocab)\r\n",
        "encoder_embedding_size=300\r\n",
        "decoder_embedding_size=300\r\n",
        "hidden_size=1024\r\n",
        "num_layers=2\r\n",
        "enc_dropout=0.5\r\n",
        "dec_dropout=0.5"
      ],
      "execution_count": 23,
      "outputs": []
    },
    {
      "cell_type": "code",
      "metadata": {
        "colab": {
          "base_uri": "https://localhost:8080/"
        },
        "id": "GVbL8pdsJd-O",
        "outputId": "864d80b8-5398-4ba6-ec79-24d2ca1442a6"
      },
      "source": [
        "step=0\r\n",
        "\r\n",
        "train_iterator, valid_iterator, test_iterator = BucketIterator.splits(\r\n",
        "    (train_data,valid_data,test_data),\r\n",
        "    batch_size=batch_size,\r\n",
        "    sort_within_batch=True,\r\n",
        "    sort_key=lambda x: len(x.src),\r\n",
        "    device=device\r\n",
        ")"
      ],
      "execution_count": 13,
      "outputs": [
        {
          "output_type": "stream",
          "text": [
            "/usr/local/lib/python3.6/dist-packages/torchtext/data/iterator.py:48: UserWarning: BucketIterator class will be retired soon and moved to torchtext.legacy. Please see the most recent release notes for further information.\n",
            "  warnings.warn('{} class will be retired soon and moved to torchtext.legacy. Please see the most recent release notes for further information.'.format(self.__class__.__name__), UserWarning)\n"
          ],
          "name": "stderr"
        }
      ]
    },
    {
      "cell_type": "code",
      "metadata": {
        "id": "A_0UIifFJ6Sb"
      },
      "source": [
        "encoder_net=Encoder(input_size_encoder, encoder_embedding_size, hidden_size, num_layers, enc_dropout).to(device)\r\n",
        "\r\n",
        "decoder_net=Decoder(input_size_decoder, decoder_embedding_size, hidden_size, output_size, num_layers, dec_dropout).to(device)"
      ],
      "execution_count": 14,
      "outputs": []
    },
    {
      "cell_type": "code",
      "metadata": {
        "id": "_7Zhv_XaKmuT"
      },
      "source": [
        "model=Seq2Seq(encoder_net, decoder_net).to(device)\r\n",
        "optimizer=optim.Adam(model.parameters(), lr=learning_rate)\r\n",
        "\r\n",
        "pad_idx = english.vocab.stoi[\"<pad>\"]\r\n",
        "criterion = nn.CrossEntropyLoss(ignore_index=pad_idx)\r\n",
        "\r\n",
        "##CHECK THIS BEFORE RUNNING\r\n",
        "load_model=True"
      ],
      "execution_count": 24,
      "outputs": []
    },
    {
      "cell_type": "code",
      "metadata": {
        "id": "JkFSw5LKLksZ"
      },
      "source": [
        "sentence = \"ein boot mit mehreren männern darauf wird von einem großen pferdegespann ans ufer gezogen.\""
      ],
      "execution_count": 19,
      "outputs": []
    },
    {
      "cell_type": "code",
      "metadata": {
        "colab": {
          "base_uri": "https://localhost:8080/"
        },
        "id": "4s8CqfdpStKl",
        "outputId": "79779c6e-ecfd-464d-d6f1-94245ee39501"
      },
      "source": [
        "torch.cuda.is_available()"
      ],
      "execution_count": 25,
      "outputs": [
        {
          "output_type": "execute_result",
          "data": {
            "text/plain": [
              "False"
            ]
          },
          "metadata": {
            "tags": []
          },
          "execution_count": 25
        }
      ]
    },
    {
      "cell_type": "code",
      "metadata": {
        "colab": {
          "base_uri": "https://localhost:8080/"
        },
        "id": "wkMO3J94LsM0",
        "outputId": "7f819d49-fdbc-49d1-de55-bd7d137583e5"
      },
      "source": [
        "for epoch in range(num_epochs):\r\n",
        "  print(f\"[Epoch {epoch} / {num_epochs}]\")\r\n",
        "\r\n",
        "  checkpoint = {\"state_dict\":model.state_dict(), \"optimizer\": optimizer.state_dict()}\r\n",
        "  # save_checkpoint(checkpoint)\r\n",
        "\r\n",
        "  model.eval()\r\n",
        "\r\n",
        "  # translated_sentence = translate_sentence(\r\n",
        "  #     model, sentence,german, english, device, max_length=50\r\n",
        "  # )\r\n",
        "\r\n",
        "  # print(f\"Translated Example Sentence: \\n {translated_sentence}\")\r\n",
        "\r\n",
        "  model.train()\r\n",
        "\r\n",
        "  for batch_idx, batch in enumerate(train_iterator):\r\n",
        "    inp_data=batch.src.to(device)\r\n",
        "    target=batch.trg.to(device)\r\n",
        "\r\n",
        "    output=model(inp_data, target)\r\n",
        "\r\n",
        "    output=output[1:].reshape(-1, output.shape[2])\r\n",
        "    target=target[1:].reshape(-1)\r\n",
        "\r\n",
        "    optimizer.zero_grad()\r\n",
        "    loss=criterion(output,target)\r\n",
        "\r\n",
        "    loss.backward()\r\n",
        "\r\n",
        "    torch.nn.utils.clip_grad_norm_(model.parameters(), max_norm=1)\r\n",
        "\r\n",
        "    optimizer.step()\r\n",
        "    step+=1"
      ],
      "execution_count": 19,
      "outputs": [
        {
          "output_type": "stream",
          "text": [
            "[Epoch 0 / 100]\n",
            "[Epoch 1 / 100]\n",
            "[Epoch 2 / 100]\n",
            "[Epoch 3 / 100]\n",
            "[Epoch 4 / 100]\n",
            "[Epoch 5 / 100]\n",
            "[Epoch 6 / 100]\n",
            "[Epoch 7 / 100]\n",
            "[Epoch 8 / 100]\n",
            "[Epoch 9 / 100]\n",
            "[Epoch 10 / 100]\n",
            "[Epoch 11 / 100]\n",
            "[Epoch 12 / 100]\n",
            "[Epoch 13 / 100]\n",
            "[Epoch 14 / 100]\n",
            "[Epoch 15 / 100]\n",
            "[Epoch 16 / 100]\n",
            "[Epoch 17 / 100]\n",
            "[Epoch 18 / 100]\n",
            "[Epoch 19 / 100]\n",
            "[Epoch 20 / 100]\n",
            "[Epoch 21 / 100]\n",
            "[Epoch 22 / 100]\n",
            "[Epoch 23 / 100]\n",
            "[Epoch 24 / 100]\n",
            "[Epoch 25 / 100]\n",
            "[Epoch 26 / 100]\n",
            "[Epoch 27 / 100]\n",
            "[Epoch 28 / 100]\n",
            "[Epoch 29 / 100]\n",
            "[Epoch 30 / 100]\n",
            "[Epoch 31 / 100]\n",
            "[Epoch 32 / 100]\n",
            "[Epoch 33 / 100]\n",
            "[Epoch 34 / 100]\n",
            "[Epoch 35 / 100]\n",
            "[Epoch 36 / 100]\n",
            "[Epoch 37 / 100]\n",
            "[Epoch 38 / 100]\n",
            "[Epoch 39 / 100]\n",
            "[Epoch 40 / 100]\n",
            "[Epoch 41 / 100]\n",
            "[Epoch 42 / 100]\n",
            "[Epoch 43 / 100]\n",
            "[Epoch 44 / 100]\n",
            "[Epoch 45 / 100]\n",
            "[Epoch 46 / 100]\n",
            "[Epoch 47 / 100]\n",
            "[Epoch 48 / 100]\n",
            "[Epoch 49 / 100]\n",
            "[Epoch 50 / 100]\n",
            "[Epoch 51 / 100]\n",
            "[Epoch 52 / 100]\n",
            "[Epoch 53 / 100]\n",
            "[Epoch 54 / 100]\n",
            "[Epoch 55 / 100]\n",
            "[Epoch 56 / 100]\n",
            "[Epoch 57 / 100]\n",
            "[Epoch 58 / 100]\n",
            "[Epoch 59 / 100]\n",
            "[Epoch 60 / 100]\n",
            "[Epoch 61 / 100]\n",
            "[Epoch 62 / 100]\n",
            "[Epoch 63 / 100]\n",
            "[Epoch 64 / 100]\n",
            "[Epoch 65 / 100]\n",
            "[Epoch 66 / 100]\n",
            "[Epoch 67 / 100]\n",
            "[Epoch 68 / 100]\n",
            "[Epoch 69 / 100]\n",
            "[Epoch 70 / 100]\n",
            "[Epoch 71 / 100]\n",
            "[Epoch 72 / 100]\n",
            "[Epoch 73 / 100]\n",
            "[Epoch 74 / 100]\n",
            "[Epoch 75 / 100]\n",
            "[Epoch 76 / 100]\n",
            "[Epoch 77 / 100]\n",
            "[Epoch 78 / 100]\n",
            "[Epoch 79 / 100]\n",
            "[Epoch 80 / 100]\n",
            "[Epoch 81 / 100]\n",
            "[Epoch 82 / 100]\n",
            "[Epoch 83 / 100]\n",
            "[Epoch 84 / 100]\n",
            "[Epoch 85 / 100]\n",
            "[Epoch 86 / 100]\n",
            "[Epoch 87 / 100]\n",
            "[Epoch 88 / 100]\n",
            "[Epoch 89 / 100]\n",
            "[Epoch 90 / 100]\n",
            "[Epoch 91 / 100]\n",
            "[Epoch 92 / 100]\n",
            "[Epoch 93 / 100]\n",
            "[Epoch 94 / 100]\n",
            "[Epoch 95 / 100]\n",
            "[Epoch 96 / 100]\n",
            "[Epoch 97 / 100]\n",
            "[Epoch 98 / 100]\n",
            "[Epoch 99 / 100]\n"
          ],
          "name": "stdout"
        }
      ]
    },
    {
      "cell_type": "code",
      "metadata": {
        "colab": {
          "base_uri": "https://localhost:8080/",
          "height": 530
        },
        "id": "K6OvDdNz-YgM",
        "outputId": "44381022-3dd7-4d66-b555-34e4ea2c4a50"
      },
      "source": [
        "!pip install --upgrade torchtext"
      ],
      "execution_count": 20,
      "outputs": [
        {
          "output_type": "stream",
          "text": [
            "Collecting torchtext\n",
            "\u001b[?25l  Downloading https://files.pythonhosted.org/packages/0e/81/be2d72b1ea641afc74557574650a5b421134198de9f68f483ab10d515dca/torchtext-0.8.1-cp36-cp36m-manylinux1_x86_64.whl (7.0MB)\n",
            "\u001b[K     |████████████████████████████████| 7.0MB 7.2MB/s \n",
            "\u001b[?25hRequirement already satisfied, skipping upgrade: tqdm in /usr/local/lib/python3.6/dist-packages (from torchtext) (4.41.1)\n",
            "Collecting torch==1.7.1\n",
            "\u001b[?25l  Downloading https://files.pythonhosted.org/packages/90/4f/acf48b3a18a8f9223c6616647f0a011a5713a985336088d7c76f3a211374/torch-1.7.1-cp36-cp36m-manylinux1_x86_64.whl (776.8MB)\n",
            "\u001b[K     |████████████████████████████████| 776.8MB 24kB/s \n",
            "\u001b[?25hRequirement already satisfied, skipping upgrade: requests in /usr/local/lib/python3.6/dist-packages (from torchtext) (2.23.0)\n",
            "Requirement already satisfied, skipping upgrade: numpy in /usr/local/lib/python3.6/dist-packages (from torchtext) (1.19.5)\n",
            "Requirement already satisfied, skipping upgrade: typing-extensions in /usr/local/lib/python3.6/dist-packages (from torch==1.7.1->torchtext) (3.7.4.3)\n",
            "Requirement already satisfied, skipping upgrade: dataclasses; python_version < \"3.7\" in /usr/local/lib/python3.6/dist-packages (from torch==1.7.1->torchtext) (0.8)\n",
            "Requirement already satisfied, skipping upgrade: idna<3,>=2.5 in /usr/local/lib/python3.6/dist-packages (from requests->torchtext) (2.10)\n",
            "Requirement already satisfied, skipping upgrade: certifi>=2017.4.17 in /usr/local/lib/python3.6/dist-packages (from requests->torchtext) (2020.12.5)\n",
            "Requirement already satisfied, skipping upgrade: urllib3!=1.25.0,!=1.25.1,<1.26,>=1.21.1 in /usr/local/lib/python3.6/dist-packages (from requests->torchtext) (1.24.3)\n",
            "Requirement already satisfied, skipping upgrade: chardet<4,>=3.0.2 in /usr/local/lib/python3.6/dist-packages (from requests->torchtext) (3.0.4)\n",
            "\u001b[31mERROR: torchvision 0.8.1+cu101 has requirement torch==1.7.0, but you'll have torch 1.7.1 which is incompatible.\u001b[0m\n",
            "Installing collected packages: torch, torchtext\n",
            "  Found existing installation: torch 1.7.0+cu101\n",
            "    Uninstalling torch-1.7.0+cu101:\n",
            "      Successfully uninstalled torch-1.7.0+cu101\n",
            "  Found existing installation: torchtext 0.3.1\n",
            "    Uninstalling torchtext-0.3.1:\n",
            "      Successfully uninstalled torchtext-0.3.1\n",
            "Successfully installed torch-1.7.1 torchtext-0.8.1\n"
          ],
          "name": "stdout"
        },
        {
          "output_type": "display_data",
          "data": {
            "application/vnd.colab-display-data+json": {
              "pip_warning": {
                "packages": [
                  "torch",
                  "torchtext"
                ]
              }
            }
          },
          "metadata": {
            "tags": []
          }
        }
      ]
    },
    {
      "cell_type": "code",
      "metadata": {
        "id": "_8WL0WuUb5t1"
      },
      "source": [
        "from utils import translate_sentence, bleu, save_checkpoint, load_checkpoint"
      ],
      "execution_count": 27,
      "outputs": []
    },
    {
      "cell_type": "code",
      "metadata": {
        "id": "K04lLcAVlYgY"
      },
      "source": [
        "def save_checkpoint(state, filename=\"my_checkpoint.pth.tar\"):\r\n",
        "    print(\"=> Saving checkpoint\")\r\n",
        "    torch.save(state, filename)"
      ],
      "execution_count": 22,
      "outputs": []
    },
    {
      "cell_type": "code",
      "metadata": {
        "colab": {
          "base_uri": "https://localhost:8080/"
        },
        "id": "ETFZ3MxclfYa",
        "outputId": "32584dfe-9eca-47b7-96fb-643a4d13c98b"
      },
      "source": [
        "checkpoint = {\"state_dict\":model.state_dict(), \"optimizer\": optimizer.state_dict()}\r\n",
        "save_checkpoint(checkpoint)"
      ],
      "execution_count": 23,
      "outputs": [
        {
          "output_type": "stream",
          "text": [
            "=> Saving checkpoint\n"
          ],
          "name": "stdout"
        }
      ]
    },
    {
      "cell_type": "code",
      "metadata": {
        "id": "v4I0rEWELTXT",
        "colab": {
          "base_uri": "https://localhost:8080/"
        },
        "outputId": "a8873d12-b5a7-42fd-ed02-e96540fdd88e"
      },
      "source": [
        "if load_model:\r\n",
        "  load_checkpoint(torch.load(\"my_checkpoint.pth.tar\",map_location=torch.device('cpu')), model, optimizer)"
      ],
      "execution_count": 32,
      "outputs": [
        {
          "output_type": "stream",
          "text": [
            "=> Loading checkpoint\n"
          ],
          "name": "stdout"
        }
      ]
    },
    {
      "cell_type": "code",
      "metadata": {
        "id": "oTKuLw2oNdWc",
        "colab": {
          "base_uri": "https://localhost:8080/"
        },
        "outputId": "88b5acee-62e6-4a49-be28-293327f874fd"
      },
      "source": [
        "score=bleu(test_data, model, german, english, device)\r\n",
        "print(f\"Bleu Score: {score*100:.2f}\")"
      ],
      "execution_count": 35,
      "outputs": [
        {
          "output_type": "stream",
          "text": [
            "Bleu Score: 5.38\n"
          ],
          "name": "stdout"
        }
      ]
    }
  ]
}